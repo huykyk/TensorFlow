{
 "cells": [
  {
   "cell_type": "code",
   "execution_count": 1,
   "metadata": {
    "collapsed": true
   },
   "outputs": [],
   "source": [
    "from urllib.request import urlretrieve\n",
    "import os\n",
    "import numpy as np\n",
    "import tensorflow as tf\n",
    "import skimage.io\n",
    "import skimage.transform\n",
    "import matplotlib.pyplot as plt\n"
   ]
  },
  {
   "cell_type": "code",
   "execution_count": 4,
   "metadata": {},
   "outputs": [],
   "source": [
    "def dowmload():\n",
    "    pass"
   ]
  },
  {
   "cell_type": "code",
   "execution_count": 5,
   "metadata": {
    "collapsed": true
   },
   "outputs": [],
   "source": [
    "def load_img(path):\n",
    "    pass"
   ]
  },
  {
   "cell_type": "code",
   "execution_count": 6,
   "metadata": {
    "collapsed": true
   },
   "outputs": [],
   "source": [
    "def load_data():\n",
    "    pass"
   ]
  },
  {
   "cell_type": "code",
   "execution_count": 7,
   "metadata": {},
   "outputs": [
    {
     "ename": "SyntaxError",
     "evalue": "unexpected EOF while parsing (<ipython-input-7-4611bdc86380>, line 2)",
     "output_type": "error",
     "traceback": [
      "\u001b[1;36m  File \u001b[1;32m\"<ipython-input-7-4611bdc86380>\"\u001b[1;36m, line \u001b[1;32m2\u001b[0m\n\u001b[1;33m    \u001b[0m\n\u001b[1;37m    ^\u001b[0m\n\u001b[1;31mSyntaxError\u001b[0m\u001b[1;31m:\u001b[0m unexpected EOF while parsing\n"
     ]
    }
   ],
   "source": [
    "class Vgg16:\n",
    "    vgg_mean = [103.939, 116.779, 123.68]\n",
    "\n",
    "    def __init__(self, vgg16_npy_path=None, restore_from=None):\n",
    "        # pre-trained parameters\n",
    "        try:\n",
    "            self.data_dict = np.load(vgg16_npy_path, encoding='latin1').item()\n",
    "        except FileNotFoundError:\n",
    "            print('Please download VGG16 parameters at here https://mega.nz/#!YU1FWJrA!O1ywiCS2IiOlUCtCpI6HTJOMrneN-Qdv3ywQP5poecM')\n",
    "\n",
    "        self.tfx = tf.placeholder(tf.float32, [None, 224, 224, 3])\n",
    "        self.tfy = tf.placeholder(tf.float32, [None, 1])\n",
    "\n",
    "        # Convert RGB to BGR\n",
    "        red, green, blue = tf.split(axis=3, num_or_size_splits=3, value=self.tfx * 255.0)\n",
    "        bgr = tf.concat(axis=3, values=[\n",
    "            blue - self.vgg_mean[0],\n",
    "            green - self.vgg_mean[1],\n",
    "            red - self.vgg_mean[2],\n",
    "        ])\n",
    "\n",
    "        # pre-trained VGG layers are fixed in fine-tune\n",
    "        conv1_1 = self.conv_layer(bgr, \"conv1_1\")\n",
    "        conv1_2 = self.conv_layer(conv1_1, \"conv1_2\")\n",
    "        pool1 = self.max_pool(conv1_2, 'pool1')\n",
    "\n",
    "        conv2_1 = self.conv_layer(pool1, \"conv2_1\")\n",
    "        conv2_2 = self.conv_layer(conv2_1, \"conv2_2\")\n",
    "        pool2 = self.max_pool(conv2_2, 'pool2')\n",
    "\n",
    "        conv3_1 = self.conv_layer(pool2, \"conv3_1\")\n",
    "        conv3_2 = self.conv_layer(conv3_1, \"conv3_2\")\n",
    "        conv3_3 = self.conv_layer(conv3_2, \"conv3_3\")\n",
    "        pool3 = self.max_pool(conv3_3, 'pool3')\n",
    "\n",
    "        conv4_1 = self.conv_layer(pool3, \"conv4_1\")\n",
    "        conv4_2 = self.conv_layer(conv4_1, \"conv4_2\")\n",
    "        conv4_3 = self.conv_layer(conv4_2, \"conv4_3\")\n",
    "        pool4 = self.max_pool(conv4_3, 'pool4')\n",
    "\n",
    "        conv5_1 = self.conv_layer(pool4, \"conv5_1\")\n",
    "        conv5_2 = self.conv_layer(conv5_1, \"conv5_2\")\n",
    "        conv5_3 = self.conv_layer(conv5_2, \"conv5_3\")\n",
    "        pool5 = self.max_pool(conv5_3, 'pool5')\n",
    "\n",
    "        # detach original VGG fc layers and\n",
    "        # reconstruct your own fc layers serve for your own purpose\n",
    "        self.flatten = tf.reshape(pool5, [-1, 7*7*512])\n",
    "        self.fc6 = tf.layers.dense(self.flatten, 256, tf.nn.relu, name='fc6')\n",
    "        self.out = tf.layers.dense(self.fc6, 1, name='out')\n",
    "\n",
    "        self.sess = tf.Session()\n",
    "        if restore_from:\n",
    "            saver = tf.train.Saver()\n",
    "            saver.restore(self.sess, restore_from)\n",
    "        else:   # training graph\n",
    "            self.loss = tf.losses.mean_squared_error(labels=self.tfy, predictions=self.out)\n",
    "            self.train_op = tf.train.RMSPropOptimizer(0.001).minimize(self.loss)\n",
    "            self.sess.run(tf.global_variables_initializer())\n",
    "\n",
    "    def max_pool(self, bottom, name):\n",
    "        return tf.nn.max_pool(bottom, ksize=[1, 2, 2, 1], strides=[1, 2, 2, 1], padding='SAME', name=name)\n",
    "\n",
    "    def conv_layer(self, bottom, name):\n",
    "        with tf.variable_scope(name):   # CNN's filter is constant, NOT Variable that can be trained\n",
    "            conv = tf.nn.conv2d(bottom, self.data_dict[name][0], [1, 1, 1, 1], padding='SAME')\n",
    "            lout = tf.nn.relu(tf.nn.bias_add(conv, self.data_dict[name][1]))\n",
    "            return lout\n",
    "\n",
    "    def train(self, x, y):\n",
    "        loss, _ = self.sess.run([self.loss, self.train_op], {self.tfx: x, self.tfy: y})\n",
    "        return loss\n",
    "\n",
    "    def predict(self, paths):\n",
    "        fig, axs = plt.subplots(1, 2)\n",
    "        for i, path in enumerate(paths):\n",
    "            x = load_img(path)\n",
    "            length = self.sess.run(self.out, {self.tfx: x})\n",
    "            axs[i].imshow(x[0])\n",
    "            axs[i].set_title('Len: %.1f cm' % length)\n",
    "            axs[i].set_xticks(()); axs[i].set_yticks(())\n",
    "        plt.show()\n",
    "\n",
    "    def save(self, path='./for_transfer_learning/model/transfer_learn'):\n",
    "        saver = tf.train.Saver()\n",
    "        saver.save(self.sess, path, write_meta_graph=False)\n",
    "\n",
    "\n",
    "def train():\n",
    "    tigers_x, cats_x, tigers_y, cats_y = load_data()\n",
    "\n",
    "    # plot fake length distribution\n",
    "    plt.hist(tigers_y, bins=20, label='Tigers')\n",
    "    plt.hist(cats_y, bins=10, label='Cats')\n",
    "    plt.legend()\n",
    "    plt.xlabel('length')\n",
    "    plt.show()\n",
    "\n",
    "    xs = np.concatenate(tigers_x + cats_x, axis=0)\n",
    "    ys = np.concatenate((tigers_y, cats_y), axis=0)\n",
    "\n",
    "    vgg = Vgg16(vgg16_npy_path='./for_transfer_learning/vgg16.npy')\n",
    "    print('Net built')\n",
    "    for i in range(100):\n",
    "        b_idx = np.random.randint(0, len(xs), 6)\n",
    "        train_loss = vgg.train(xs[b_idx], ys[b_idx])\n",
    "        print(i, 'train loss: ', train_loss)\n",
    "\n",
    "    vgg.save('./for_transfer_learning/model/transfer_learn')      # save learned fc layers\n",
    "\n",
    "\n",
    "def eval():\n",
    "    vgg = Vgg16(vgg16_npy_path='./for_transfer_learning/vgg16.npy',\n",
    "                restore_from='./for_transfer_learning/model/transfer_learn')\n",
    "    vgg.predict(\n",
    "        ['./for_transfer_learning/data/kittycat/000129037.jpg', './for_transfer_learning/data/tiger/391412.jpg'])\n",
    "    "
   ]
  },
  {
   "cell_type": "code",
   "execution_count": 8,
   "metadata": {},
   "outputs": [
    {
     "ename": "TypeError",
     "evalue": "eval expected at least 1 arguments, got 0",
     "output_type": "error",
     "traceback": [
      "\u001b[1;31m---------------------------------------------------------------------------\u001b[0m",
      "\u001b[1;31mTypeError\u001b[0m                                 Traceback (most recent call last)",
      "\u001b[1;32m<ipython-input-8-8787f3b52769>\u001b[0m in \u001b[0;36m<module>\u001b[1;34m()\u001b[0m\n\u001b[0;32m      2\u001b[0m     \u001b[1;31m# download()\u001b[0m\u001b[1;33m\u001b[0m\u001b[1;33m\u001b[0m\u001b[0m\n\u001b[0;32m      3\u001b[0m     \u001b[1;31m# train()\u001b[0m\u001b[1;33m\u001b[0m\u001b[1;33m\u001b[0m\u001b[0m\n\u001b[1;32m----> 4\u001b[1;33m     \u001b[0meval\u001b[0m\u001b[1;33m(\u001b[0m\u001b[1;33m)\u001b[0m\u001b[1;33m\u001b[0m\u001b[0m\n\u001b[0m",
      "\u001b[1;31mTypeError\u001b[0m: eval expected at least 1 arguments, got 0"
     ]
    }
   ],
   "source": [
    "if __name__ == '__main__':\n",
    "    # download()\n",
    "    # train()\n",
    "    eval()"
   ]
  },
  {
   "cell_type": "code",
   "execution_count": null,
   "metadata": {
    "collapsed": true
   },
   "outputs": [],
   "source": []
  }
 ],
 "metadata": {
  "kernelspec": {
   "display_name": "Python 3",
   "language": "python",
   "name": "python3"
  },
  "language_info": {
   "codemirror_mode": {
    "name": "ipython",
    "version": 3
   },
   "file_extension": ".py",
   "mimetype": "text/x-python",
   "name": "python",
   "nbconvert_exporter": "python",
   "pygments_lexer": "ipython3",
   "version": "3.6.3"
  }
 },
 "nbformat": 4,
 "nbformat_minor": 2
}
