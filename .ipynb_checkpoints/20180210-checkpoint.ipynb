{
 "cells": [
  {
   "cell_type": "code",
   "execution_count": 1,
   "metadata": {},
   "outputs": [],
   "source": [
    "import tensorflow as tf\n",
    "from tensorflow.examples.tutorials.mnist import input_data"
   ]
  },
  {
   "cell_type": "code",
   "execution_count": 2,
   "metadata": {},
   "outputs": [
    {
     "name": "stdout",
     "output_type": "stream",
     "text": [
      "Extracting MNIST_data\\train-images-idx3-ubyte.gz\n",
      "Extracting MNIST_data\\train-labels-idx1-ubyte.gz\n",
      "Extracting MNIST_data\\t10k-images-idx3-ubyte.gz\n",
      "Extracting MNIST_data\\t10k-labels-idx1-ubyte.gz\n"
     ]
    }
   ],
   "source": [
    "#载入数据集\n",
    "mnist = input_data.read_data_sets(\"MNIST_data\",one_hot=True)"
   ]
  },
  {
   "cell_type": "code",
   "execution_count": 3,
   "metadata": {},
   "outputs": [
    {
     "name": "stdout",
     "output_type": "stream",
     "text": [
      "Iter0Test acc = 0.9117\n",
      "Iter1Test acc = 0.9216\n",
      "Iter2Test acc = 0.9187\n",
      "Iter3Test acc = 0.9246\n",
      "Iter4Test acc = 0.924\n",
      "Iter5Test acc = 0.9285\n",
      "Iter6Test acc = 0.9269\n",
      "Iter7Test acc = 0.9268\n",
      "Iter8Test acc = 0.9278\n",
      "Iter9Test acc = 0.9282\n",
      "Iter10Test acc = 0.9295\n",
      "Iter11Test acc = 0.928\n",
      "Iter12Test acc = 0.9292\n",
      "Iter13Test acc = 0.9292\n",
      "Iter14Test acc = 0.9298\n",
      "Iter15Test acc = 0.93\n",
      "Iter16Test acc = 0.93\n",
      "Iter17Test acc = 0.9301\n",
      "Iter18Test acc = 0.9292\n",
      "Iter19Test acc = 0.9304\n",
      "Iter20Test acc = 0.9309\n",
      "Iter21Test acc = 0.9278\n",
      "Iter22Test acc = 0.9302\n",
      "Iter23Test acc = 0.9293\n",
      "Iter24Test acc = 0.9298\n",
      "Iter25Test acc = 0.9309\n",
      "Iter26Test acc = 0.9287\n",
      "Iter27Test acc = 0.9296\n",
      "Iter28Test acc = 0.9302\n",
      "Iter29Test acc = 0.9297\n",
      "Iter30Test acc = 0.9303\n",
      "Iter31Test acc = 0.9282\n",
      "Iter32Test acc = 0.9305\n",
      "Iter33Test acc = 0.9311\n",
      "Iter34Test acc = 0.9284\n",
      "Iter35Test acc = 0.9278\n",
      "Iter36Test acc = 0.9291\n",
      "Iter37Test acc = 0.929\n",
      "Iter38Test acc = 0.9295\n",
      "Iter39Test acc = 0.9301\n",
      "Iter40Test acc = 0.9307\n",
      "Iter41Test acc = 0.9304\n",
      "Iter42Test acc = 0.9301\n",
      "Iter43Test acc = 0.9288\n",
      "Iter44Test acc = 0.9297\n",
      "Iter45Test acc = 0.9309\n",
      "Iter46Test acc = 0.9301\n",
      "Iter47Test acc = 0.9312\n",
      "Iter48Test acc = 0.9305\n",
      "Iter49Test acc = 0.9302\n",
      "Iter50Test acc = 0.9311\n"
     ]
    }
   ],
   "source": [
    "# 每个批次的大小\n",
    "batch_size = 10\n",
    "# 计算一共有多少个批次\n",
    "n_batch = mnist.train.num_examples//batch_size\n",
    "\n",
    "# 定义两个placeholder\n",
    "x = tf.placeholder(tf.float32,[None,784])\n",
    "y = tf.placeholder(tf.float32,[None,10])\n",
    "#创建一个简单的神经网络\n",
    "W= tf.Variable(tf.zeros([784,10]))\n",
    "b = tf.Variable(tf.zeros([10]))\n",
    "prediction = tf.nn.softmax(tf.matmul(x,W)+b)\n",
    "# prediction = tf.nn.relu(tf.matmul(x,W)+b)\n",
    "#定义二次代价函数\n",
    "loss = tf.reduce_mean(tf.square(y - prediction))\n",
    "# loss = tf.reduce_max(tf.square(y - prediction))\n",
    "#使用梯度下降法\n",
    "train_step = tf.train.GradientDescentOptimizer(0.5).minimize(loss)\n",
    "\n",
    "#初始化变量\n",
    "init = tf.global_variables_initializer()\n",
    "\n",
    "# 结果存放在一份\n",
    "correct_prediction = tf.equal(tf.argmax(y,1),tf.argmax(prediction,1))\n",
    "#求准确率\n",
    "accuracy = tf.reduce_mean(tf.cast(correct_prediction,tf.float32))\n",
    "\n",
    "with tf.Session() as sess:\n",
    "    sess.run(init)\n",
    "    for each in range(51):\n",
    "        for batch in range(n_batch):\n",
    "            batch_xs,batch_ys = mnist.train.next_batch(batch_size)\n",
    "            sess.run(train_step,feed_dict={x:batch_xs,y:batch_ys})\n",
    "            \n",
    "        acc = sess.run(accuracy,feed_dict= {x:mnist.test.images,y:mnist.test.labels})\n",
    "        print(\"Iter\"   + str(each) + \"Test acc = \" + str(acc) )\n",
    "            \n",
    " #0.9295 10        93.11   "
   ]
  },
  {
   "cell_type": "code",
   "execution_count": null,
   "metadata": {
    "collapsed": true
   },
   "outputs": [],
   "source": []
  }
 ],
 "metadata": {
  "kernelspec": {
   "display_name": "Python 3",
   "language": "python",
   "name": "python3"
  },
  "language_info": {
   "codemirror_mode": {
    "name": "ipython",
    "version": 3
   },
   "file_extension": ".py",
   "mimetype": "text/x-python",
   "name": "python",
   "nbconvert_exporter": "python",
   "pygments_lexer": "ipython3",
   "version": "3.6.3"
  }
 },
 "nbformat": 4,
 "nbformat_minor": 2
}
